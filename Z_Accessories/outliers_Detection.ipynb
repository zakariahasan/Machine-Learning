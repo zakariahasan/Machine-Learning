{
 "cells": [
  {
   "cell_type": "code",
   "execution_count": 1,
   "metadata": {
    "ExecuteTime": {
     "end_time": "2020-08-24T13:55:49.336238Z",
     "start_time": "2020-08-24T13:55:47.283553Z"
    }
   },
   "outputs": [],
   "source": [
    "import numpy as np\n",
    "import seaborn as sns\n",
    "import matplotlib.pyplot as plt\n",
    "%matplotlib inline"
   ]
  },
  {
   "cell_type": "markdown",
   "metadata": {},
   "source": [
    "## What are the Criteria to identify an outlier?"
   ]
  },
  {
   "cell_type": "markdown",
   "metadata": {},
   "source": [
    "1. Data point that falls outside of an interquantile range above the 3rd quarlite and below the 1st quartile\n",
    "2. Data point that falls outside of 3 standerd deviations. we can use Z score and if the Z score falls outside of 2 standerd deviation."
   ]
  },
  {
   "cell_type": "markdown",
   "metadata": {
    "ExecuteTime": {
     "end_time": "2020-08-24T13:16:24.118489Z",
     "start_time": "2020-08-24T13:16:24.115129Z"
    }
   },
   "source": [
    "## What is the reason for an outlier to exists in a dataset?"
   ]
  },
  {
   "cell_type": "markdown",
   "metadata": {},
   "source": [
    "1. Variability in the data\n",
    "2. An experimental measurement error"
   ]
  },
  {
   "cell_type": "markdown",
   "metadata": {},
   "source": [
    "## What are the impacts of having outliers in a dataset?"
   ]
  },
  {
   "cell_type": "markdown",
   "metadata": {},
   "source": [
    "1. It causes various problems during our statistical analysis\n",
    "2. It may cause a significant impact on the mean and the standart deviation"
   ]
  },
  {
   "cell_type": "markdown",
   "metadata": {},
   "source": [
    "## Various ways of finding the outlier."
   ]
  },
  {
   "cell_type": "markdown",
   "metadata": {},
   "source": [
    "1. Using Scatter plot\n",
    "2. Box plot\n",
    "3. Using the IQR interquantile range\n",
    "4. Using Z Score"
   ]
  },
  {
   "cell_type": "code",
   "execution_count": 2,
   "metadata": {
    "ExecuteTime": {
     "end_time": "2020-08-24T13:55:49.355121Z",
     "start_time": "2020-08-24T13:55:49.351529Z"
    }
   },
   "outputs": [],
   "source": [
    "dataset = [-13,12,11,14,15,16,14,19,17,18,23,25,24,13,91,102]"
   ]
  },
  {
   "cell_type": "markdown",
   "metadata": {
    "ExecuteTime": {
     "end_time": "2020-08-24T13:24:52.852167Z",
     "start_time": "2020-08-24T13:24:52.848791Z"
    }
   },
   "source": [
    "## Detecting Outlier using Z Score"
   ]
  },
  {
   "cell_type": "markdown",
   "metadata": {
    "ExecuteTime": {
     "end_time": "2020-08-24T13:27:20.404420Z",
     "start_time": "2020-08-24T13:27:20.382548Z"
    }
   },
   "source": [
    "Formula for Z-Score = (Observation - Mean) / Std\n",
    "\n",
    "\\begin{equation*}\n",
    "Z = (X-\\mu)/ \\sigma\n",
    "\\end{equation*}\n"
   ]
  },
  {
   "cell_type": "code",
   "execution_count": 16,
   "metadata": {
    "ExecuteTime": {
     "end_time": "2020-08-24T13:56:37.232023Z",
     "start_time": "2020-08-24T13:56:37.225200Z"
    }
   },
   "outputs": [],
   "source": [
    "outliers = []\n",
    "\n",
    "def detect_outliers(data):\n",
    "    threshold = 2\n",
    "    mean = np.mean(data)\n",
    "    std = np.std(data)\n",
    "    \n",
    "    for i in data:\n",
    "        z_score = (i - mean)/std\n",
    "        if np.abs(z_score) > threshold:\n",
    "            outliers.append(i)\n",
    "    return outliers"
   ]
  },
  {
   "cell_type": "code",
   "execution_count": 17,
   "metadata": {
    "ExecuteTime": {
     "end_time": "2020-08-24T13:56:37.586682Z",
     "start_time": "2020-08-24T13:56:37.578087Z"
    }
   },
   "outputs": [
    {
     "data": {
      "text/plain": [
       "[91, 102]"
      ]
     },
     "execution_count": 17,
     "metadata": {},
     "output_type": "execute_result"
    }
   ],
   "source": [
    "detect_outliers(dataset)"
   ]
  },
  {
   "cell_type": "markdown",
   "metadata": {},
   "source": [
    "## Detecting Outlier using InterQuantile Range\n",
    "\n",
    "75% - 25% Values in a dataset\n",
    "\n",
    "### Steps:\n",
    "\n",
    "1. Arrange the data in assending order \n",
    "2. Calculate 1st and 3rd quantile\n",
    "3. Find interquantile range (IQR) = q3 - q1\n",
    "4. Find the lower bound = q1*1.5\n",
    "5. Find the upper bound = q3*1.5\n",
    "\n",
    "Anything that lies outside of the lower and upper bound is an outlier"
   ]
  },
  {
   "cell_type": "code",
   "execution_count": 18,
   "metadata": {
    "ExecuteTime": {
     "end_time": "2020-08-24T13:56:38.905760Z",
     "start_time": "2020-08-24T13:56:38.898014Z"
    }
   },
   "outputs": [
    {
     "name": "stdout",
     "output_type": "stream",
     "text": [
      "13.75 23.25\n",
      "9.5\n",
      "-0.5\n",
      "37.5\n"
     ]
    }
   ],
   "source": [
    "q1, q3 = np.percentile(dataset,[25,75])\n",
    "print(q1,q3)\n",
    "\n",
    "# Find the IQR\n",
    "iqr = q3 - q1\n",
    "print(iqr)\n",
    "\n",
    "# Find the lower and the upper bound value\n",
    "\n",
    "lower_bound_val = q1 - (1.5*iqr)\n",
    "upper_bound_val = q3 + (1.5*iqr)\n",
    "print(lower_bound_val)\n",
    "print(upper_bound_val)"
   ]
  },
  {
   "cell_type": "markdown",
   "metadata": {},
   "source": [
    "## Detecting Outlier using Box Plot"
   ]
  },
  {
   "cell_type": "code",
   "execution_count": 6,
   "metadata": {
    "ExecuteTime": {
     "end_time": "2020-08-24T13:55:49.582182Z",
     "start_time": "2020-08-24T13:55:49.409580Z"
    }
   },
   "outputs": [
    {
     "data": {
      "image/png": "[encoded data removed]",
      "text/plain": [
       "<Figure size 432x288 with 1 Axes>"
      ]
     },
     "metadata": {
      "needs_background": "light"
     },
     "output_type": "display_data"
    }
   ],
   "source": [
    "sns.boxplot(x=dataset);"
   ]
  },
  {
   "cell_type": "code",
   "execution_count": null,
   "metadata": {},
   "outputs": [],
   "source": []
  }
 ],
 "metadata": {
  "gist": {
   "data": {
    "description": "anaconda3/ML-Material/Random_Notebook/Untitled2.ipynb",
    "public": true
   },
   "id": ""
  },
  "hide_input": false,
  "kernelspec": {
   "display_name": "Python 3",
   "language": "python",
   "name": "python3"
  },
  "language_info": {
   "codemirror_mode": {
    "name": "ipython",
    "version": 3
   },
   "file_extension": ".py",
   "mimetype": "text/x-python",
   "name": "python",
   "nbconvert_exporter": "python",
   "pygments_lexer": "ipython3",
   "version": "3.7.4"
  },
  "latex_envs": {
   "LaTeX_envs_menu_present": true,
   "autoclose": false,
   "autocomplete": true,
   "bibliofile": "biblio.bib",
   "cite_by": "apalike",
   "current_citInitial": 1,
   "eqLabelWithNumbers": true,
   "eqNumInitial": 1,
   "hotkeys": {
    "equation": "Ctrl-E",
    "itemize": "Ctrl-I"
   },
   "labels_anchors": false,
   "latex_user_defs": false,
   "report_style_numbering": false,
   "user_envs_cfg": false
  },
  "toc": {
   "base_numbering": 1,
   "nav_menu": {},
   "number_sections": true,
   "sideBar": true,
   "skip_h1_title": false,
   "title_cell": "Table of Contents",
   "title_sidebar": "Contents",
   "toc_cell": false,
   "toc_position": {},
   "toc_section_display": true,
   "toc_window_display": false
  }
 },
 "nbformat": 4,
 "nbformat_minor": 4
}
